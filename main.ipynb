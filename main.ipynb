{
 "cells": [
  {
   "cell_type": "code",
   "execution_count": 6,
   "metadata": {},
   "outputs": [],
   "source": [
    "from langchain_community.document_loaders.csv_loader import CSVLoader\n",
    "import sys\n",
    "import csv\n",
    "maxInt = sys.maxsize\n",
    "\n",
    "while True:\n",
    "    # decrease the maxInt value by factor 10 \n",
    "    # as long as the OverflowError occurs.\n",
    "    try:\n",
    "        csv.field_size_limit(maxInt)\n",
    "        break\n",
    "    except OverflowError:\n",
    "        maxInt = int(maxInt/10)\n",
    "\n",
    "def encode_csv(path):\n",
    "    # Load PDF documents\n",
    "    loader = CSVLoader(file_path=path,\n",
    "        csv_args={\n",
    "        'delimiter': ',',\n",
    "        'quotechar': '\"',\n",
    "        'fieldnames': ['DR#', 'Problem Summary', 'Problem Description', 'Notes & Resolution']},\n",
    "        metadata_columns=['DR#', 'Problem Summary', 'Problem Description', 'Notes & Resolution'],\n",
    "        content_columns=['Problem Summary', 'Problem Description', 'Notes & Resolution'],\n",
    "        encoding='utf-8')\n",
    "    documents = loader.load()\n",
    "    return documents\n",
    "\n",
    "docs = encode_csv(\"data/mantis.csv\")\n",
    "\n",
    "# for doc in docs:\n",
    "#     print(doc.metadata['Problem Summary'], doc.metadata['Problem Description'], doc.metadata['Notes & Resolution'])"
   ]
  },
  {
   "cell_type": "code",
   "execution_count": 7,
   "metadata": {},
   "outputs": [
    {
     "name": "stdout",
     "output_type": "stream",
     "text": [
      "Loading pre-computed embeddings from disc\n"
     ]
    }
   ],
   "source": [
    "from sentence_transformers import SentenceTransformer, CrossEncoder, util\n",
    "from tqdm.autonotebook import tqdm\n",
    "import torch\n",
    "import ollama\n",
    "import pickle\n",
    "from pathlib import Path\n",
    "\n",
    "if not torch.cuda.is_available():\n",
    "    print(\"Warning: No GPU found. Please add GPU to your notebook\")\n",
    "\n",
    "#We use the Bi-Encoder to encode all passages, so that we can use it with semantic search\n",
    "bi_encoder = SentenceTransformer('multi-qa-MiniLM-L6-cos-v1')\n",
    "# bi_encoder.max_seq_length = 256     #Truncate long passages to 256 tokens\n",
    "top_k = 5                             #Number of passages we want to retrieve with the bi-encoder\n",
    "\n",
    "#The bi-encoder will retrieve 100 documents. We use a cross-encoder, to re-rank the results list to improve the quality\n",
    "cross_encoder = CrossEncoder('cross-encoder/ms-marco-MiniLM-L-6-v2')\n",
    "\n",
    "passages = []\n",
    "for doc in docs:\n",
    "    # print(doc.metadata['Problem Summary'], doc.metadata['Problem Description'], doc.metadata['Notes & Resolution'])\n",
    "    passages.append(str([doc.metadata['Problem Summary'], doc.metadata['Problem Description'], doc.metadata['Notes & Resolution']]))\n",
    "\n",
    "root = Path().resolve()\n",
    "\n",
    "embedding_cache_path = root / 'embeddings' / 'doc_embedding.pickle'\n",
    "\n",
    "if not embedding_cache_path.exists():\n",
    "    # read your corpus etc\n",
    "    corpus_sentences = ...\n",
    "    print(\"Encoding the corpus. This might take a while\")\n",
    "    corpus_embeddings = bi_encoder.encode(passages, convert_to_tensor=True, show_progress_bar=True)\n",
    "\n",
    "    print(\"Storing file on disc\")\n",
    "    with open(embedding_cache_path, \"wb\") as fOut:\n",
    "        pickle.dump({'sentences': corpus_sentences, 'embeddings': corpus_embeddings}, fOut)\n",
    "\n",
    "else:\n",
    "    print(\"Loading pre-computed embeddings from disc\")\n",
    "    with open(embedding_cache_path, \"rb\") as fIn:\n",
    "        cache_data = pickle.load(fIn)\n",
    "        corpus_sentences = cache_data['sentences']\n",
    "        corpus_embeddings = cache_data['embeddings']\n"
   ]
  },
  {
   "cell_type": "code",
   "execution_count": null,
   "metadata": {},
   "outputs": [],
   "source": [
    "# This function will search all wikipedia articles for passages that\n",
    "# answer the query\n",
    "def search(query):\n",
    "    print(\"Input question:\", query)\n",
    "\n",
    "    ##### Semantic Search #####\n",
    "    # Encode the query using the bi-encoder and find potentially relevant passages\n",
    "    question_embedding = bi_encoder.encode(query, convert_to_tensor=True)\n",
    "    question_embedding = question_embedding.cuda()\n",
    "    hits = util.semantic_search(question_embedding, corpus_embeddings, top_k=top_k)\n",
    "    hits = hits[0]  # Get the hits for the first query\n",
    "\n",
    "    ##### Re-Ranking #####\n",
    "    # Now, score all retrieved passages with the cross_encoder\n",
    "    cross_inp = [[query, passages[hit['corpus_id']]] for hit in hits]\n",
    "    cross_scores = cross_encoder.predict(cross_inp)\n",
    "\n",
    "    # Sort results by the cross-encoder scores\n",
    "    for idx in range(len(cross_scores)):\n",
    "        hits[idx]['cross-score'] = cross_scores[idx]\n",
    "\n",
    "    # Output of top-5 hits from bi-encoder\n",
    "    print(\"\\n-------------------------\\n\")\n",
    "    print(\"Top-N Bi-Encoder Retrieval hits\")\n",
    "    hits = sorted(hits, key=lambda x: x['score'], reverse=True)\n",
    "    for hit in hits[0:100]:\n",
    "        print(\"\\t{:.3f}\\t{}\".format(hit['score'], passages[hit['corpus_id']].replace(\"\\n\", \" \")))\n",
    "\n",
    "    # Output of top-5 hits from re-ranker\n",
    "    print(\"\\n-------------------------\\n\")\n",
    "    print(\"Top-N Cross-Encoder Re-ranker hits\")\n",
    "    hits = sorted(hits, key=lambda x: x['cross-score'], reverse=True)\n",
    "    result = list()\n",
    "    for hit in hits[0:5]:\n",
    "        print(\"\\t{:.3f}\\t{}\".format(hit['cross-score'], passages[hit['corpus_id']].replace(\"\\n\", \" \")))\n",
    "        result.append(passages[hit['corpus_id']].replace(\"\\n\", \" \"))\n",
    "    return(result)\n"
   ]
  },
  {
   "cell_type": "code",
   "execution_count": 11,
   "metadata": {},
   "outputs": [
    {
     "name": "stdout",
     "output_type": "stream",
     "text": [
      "Input question: I inserted a malfunction and the overcurrent trip did not occur when it was supposed to?\n"
     ]
    },
    {
     "ename": "TypeError",
     "evalue": "expected Tensor as element 0 in argument 0, but got list",
     "output_type": "error",
     "traceback": [
      "\u001b[31m---------------------------------------------------------------------------\u001b[39m",
      "\u001b[31mTypeError\u001b[39m                                 Traceback (most recent call last)",
      "\u001b[36mCell\u001b[39m\u001b[36m \u001b[39m\u001b[32mIn[11]\u001b[39m\u001b[32m, line 3\u001b[39m\n\u001b[32m      1\u001b[39m \u001b[38;5;66;03m# generate a response combining the prompt and data we retrieved in step 2\u001b[39;00m\n\u001b[32m      2\u001b[39m query = \u001b[33m\"\u001b[39m\u001b[33mI inserted a malfunction and the overcurrent trip did not occur when it was supposed to?\u001b[39m\u001b[33m\"\u001b[39m\n\u001b[32m----> \u001b[39m\u001b[32m3\u001b[39m data = \u001b[43msearch\u001b[49m\u001b[43m(\u001b[49m\u001b[43mquery\u001b[49m\u001b[43m=\u001b[49m\u001b[43mquery\u001b[49m\u001b[43m)\u001b[49m\n\u001b[32m      4\u001b[39m client = ollama.Client(host=\u001b[33m'\u001b[39m\u001b[33mhttp://localhost:11434\u001b[39m\u001b[33m'\u001b[39m)\n\u001b[32m      6\u001b[39m model = \u001b[33m\"\u001b[39m\u001b[33mllama3.2:latest\u001b[39m\u001b[33m\"\u001b[39m\n",
      "\u001b[36mCell\u001b[39m\u001b[36m \u001b[39m\u001b[32mIn[8]\u001b[39m\u001b[32m, line 10\u001b[39m, in \u001b[36msearch\u001b[39m\u001b[34m(query)\u001b[39m\n\u001b[32m      8\u001b[39m question_embedding = bi_encoder.encode(query, convert_to_tensor=\u001b[38;5;28;01mTrue\u001b[39;00m)\n\u001b[32m      9\u001b[39m question_embedding = question_embedding.cuda()\n\u001b[32m---> \u001b[39m\u001b[32m10\u001b[39m hits = \u001b[43mutil\u001b[49m\u001b[43m.\u001b[49m\u001b[43msemantic_search\u001b[49m\u001b[43m(\u001b[49m\u001b[43mquestion_embedding\u001b[49m\u001b[43m,\u001b[49m\u001b[43m \u001b[49m\u001b[43mcorpus_embeddings\u001b[49m\u001b[43m,\u001b[49m\u001b[43m \u001b[49m\u001b[43mtop_k\u001b[49m\u001b[43m=\u001b[49m\u001b[43mtop_k\u001b[49m\u001b[43m)\u001b[49m\n\u001b[32m     11\u001b[39m hits = hits[\u001b[32m0\u001b[39m]  \u001b[38;5;66;03m# Get the hits for the first query\u001b[39;00m\n\u001b[32m     13\u001b[39m \u001b[38;5;66;03m##### Re-Ranking #####\u001b[39;00m\n\u001b[32m     14\u001b[39m \u001b[38;5;66;03m# Now, score all retrieved passages with the cross_encoder\u001b[39;00m\n",
      "\u001b[36mFile \u001b[39m\u001b[32mC:\\Projects\\AI\\sentence-transformers\\sentence_transformers\\util.py:475\u001b[39m, in \u001b[36msemantic_search\u001b[39m\u001b[34m(query_embeddings, corpus_embeddings, query_chunk_size, corpus_chunk_size, top_k, score_function)\u001b[39m\n\u001b[32m    473\u001b[39m     corpus_embeddings = torch.from_numpy(corpus_embeddings)\n\u001b[32m    474\u001b[39m \u001b[38;5;28;01melif\u001b[39;00m \u001b[38;5;28misinstance\u001b[39m(corpus_embeddings, \u001b[38;5;28mlist\u001b[39m):\n\u001b[32m--> \u001b[39m\u001b[32m475\u001b[39m     corpus_embeddings = \u001b[43mtorch\u001b[49m\u001b[43m.\u001b[49m\u001b[43mstack\u001b[49m\u001b[43m(\u001b[49m\u001b[43mcorpus_embeddings\u001b[49m\u001b[43m)\u001b[49m\n\u001b[32m    477\u001b[39m \u001b[38;5;66;03m# Check that corpus and queries are on the same device\u001b[39;00m\n\u001b[32m    478\u001b[39m \u001b[38;5;28;01mif\u001b[39;00m corpus_embeddings.device != query_embeddings.device:\n",
      "\u001b[31mTypeError\u001b[39m: expected Tensor as element 0 in argument 0, but got list"
     ]
    }
   ],
   "source": [
    "# generate a response combining the prompt and data we retrieved in step 2\n",
    "query = \"I inserted a malfunction and the overcurrent trip did not occur when it was supposed to?\"\n",
    "data = search(query=query)\n",
    "client = ollama.Client(host='http://localhost:11434')\n",
    "\n",
    "model = \"llama3.2:latest\"\n",
    "print(f\"\\n------------------------ Start {model} Response ------------------------ \\n\")\n",
    "output = client.chat(model=model, messages=[{'role': 'user', 'content': f\"Using this data: {data}. Respond to this prompt: {query}\"}])\n",
    "print(output.message.content)\n",
    "print(f\"\\n------------------------- End {model} Response ------------------------- \\n\")\n",
    "\n",
    "# model = \"phi4:latest\"\n",
    "# print(f\"\\n------------------------ Start {model} Response ------------------------ \\n\")\n",
    "# output = client.chat(model=model, messages=[{'role': 'user', 'content': f\"Using this data: {data}. Respond to this prompt: {query}\"}])\n",
    "# print(output.message.content)\n",
    "# print(f\"\\n------------------------- End {model} Response ------------------------- \\n\")\n",
    "\n",
    "# model = \"qwen2.5-coder:32b\"\n",
    "# print(f\"\\n------------------------ Start {model} Response ------------------------ \\n\")\n",
    "# output = client.chat(model=model, messages=[{'role': 'user', 'content': f\"Using this data: {data}. Respond to this prompt: {query}\"}])\n",
    "# print(output.message.content)\n",
    "# print(f\"\\n------------------------- End {model} Response ------------------------- \\n\")\n",
    "\n",
    "# model = \"llama3.3:latest\"\n",
    "# print(f\"\\n------------------------ Start {model} Response ------------------------ \\n\")\n",
    "# output = client.chat(model=model, messages=[{'role': 'user', 'content': f\"Using this data: {data}. Respond to this prompt: {query}\"}])\n",
    "# print(output.message.content)\n",
    "# print(f\"\\n------------------------- End {model} Response ------------------------- \\n\")\n"
   ]
  },
  {
   "cell_type": "code",
   "execution_count": null,
   "metadata": {},
   "outputs": [
    {
     "name": "stdout",
     "output_type": "stream",
     "text": [
      "Input question: I inserted a malfunction and the overcurrent trip did not occur when it was supposed to?\n",
      "\n",
      "-------------------------\n",
      "\n",
      "Top-N Bi-Encoder Retrieval hits\n",
      "\t0.612\t['MCN601A-C condensate pump overcurrent trip', 'At rated power MCN601A-C causes overcurrent trip of breaker at about 70% severity.  Would it be possible to have the trip occur closer to 100% severity?', '@vhydro 11/19/2011\\nVerified identified issue has been corrected.\\n=-=\\n@dweaver 11/17/2011\\nIntegrated updated module EDSPreManIN.f onsite (11/17/11 4pm) into 9_CTI and 8_Exitech loads on simulator, and into 10_CTI_ASD load on DEV5 ASD workstation.\\n=-=\\n@jritter 11/17/2011\\nTweaked the malfunction in EDSPreManin.f\\n']\n",
      "\t0.565\t['LPCS malfunction E21-051 pump overload', 'LPCS pmp overld alarm comes in when malfunction installed and pump not running.\\r\\nThis is incorrect', '@tpowell 09/26/2018\\nRetest complete sat 9-26-18 t powell\\n=-=\\n@user340 09/25/2018\\nThe ladder logic was calculating the e22_151x variable directly without taking into effect the actual overcurrent that is calculated to cause the trip. This has been fixed on the RHR pumps as well.\\r\\n\\r\\nThe fixes for this are on FTP under:\\r\\n/Entergy/GrandGulf/ToSite/DRs_092518\\n']\n",
      "\t0.557\t['Malfunction CV01 - Charging Pump Trip not functioning properly', 'Malfunction CV01 - Charging Pump Trip not functioning properly\\r\\nThis malfunction is supposed to trip the Charging Pump on overcurrent.\\r\\n\\r\\nInitial review indicates the following:\\r\\nSCVD05.for equation 05.23.0 needs to be cleaned up\\r\\nEDSManIn.f should handle including malfunction and EDSMotMalf(48,101,59)=3\\r\\nWF3_EDS - Flex breakers EDSBRKSTATUS(125,169,167)\\r\\n\\r\\nSee attached DR-19-0175, Cause and Effects (CandEPage44)\\r\\n\\r\\nREF: THOR sheets 17,19,21', '@jdelcano 11/11/2019\\nBACKGROUND:\\r\\nThere were multiple issues associated with malfunction CV01 Charging Pump Trip. The Charging pump motors were never integrated correctly into new Thunder Electric source.\\r\\n\\r\\nACTION:\\r\\n1) Added malfunction CV01 motor failure using EDSMOTMALF(48), (59), and (101) for Charging Pumps A, AB, and B respectively.\\r\\n2) Removed CV01 malfunction from FLEX breakers on Electrical nodal rev 10.\\r\\n\\r\\nDR-19-0175 tested this issue SAT. In production load 11/02/2019 at WF3 and delivered Phase 2 baseline load.\\n=-=\\n@jritter 10/28/2019\\nAdded EDSMotMalf = 3 for overcurrent trips of all 3 charging pumps in EDSManIn.f.  Also removed the malfunction from the flex breakers in rev 10 of the drawing.  This generated a new EDSInput.f.  These are on the ftp site in DR17513.zip.\\n']\n",
      "\t0.549\t['Safeguard Bus D11 Fault', 'Malfunction MED263A, Fault on Safeguard Bus D11, causes 101-D11 supply breaker 152-11509 to immediately trip (due to bus lockout tripped).\\r\\nHowever, the overcurrent device tripping the breaker is a timed OC device.\\r\\nPlease verify that the fault current is causing the trip and not a legacy code issue.', \"@vhydro 07/09/2011\\nOK\\n=-=\\n@dweaver 07/08/2011\\nSee Jeff's note - fault current causing trip.\\n=-=\\n@jritter 07/05/2011\\nThe fault causes the timer to expire within 1 frame and is not caused by legacy code.\\n\"]\n",
      "\t0.548\t['Still a breaker generic problem with closing with a trip signal present', 'Insert a malfunction for an inadvertent breaker trip, e.g., MED015A-H, MED265A, MCN604A, MSW604A.\\r\\nBreaker trips okay but will not reclose with the malfunction still active.\\r\\nUnless there is an interlock with the breaker closure coil, there is no reason why a breaker should not close with a trip signal present-even if it is a malfunction-should be no different than any other kind of trip signal.', '@vhydro 08/21/2011\\nVerified that the stated problem has been corrected.\\n=-=\\n@dweaver 08/19/2011\\nIntegrated breaker_comp.f onsite.\\n=-=\\n@jritter 08/19/2011\\nI misunderstood this trip malfunction.  I had it always keeping the breaker tripped in breaker_comp.f.  Updated breaker_comp.f to allow this to happen.\\n']\n",
      "\n",
      "-------------------------\n",
      "\n",
      "Top-N Cross-Encoder Re-ranker hits\n",
      "\t2.642\t['Malfunction CV01 - Charging Pump Trip not functioning properly', 'Malfunction CV01 - Charging Pump Trip not functioning properly\\r\\nThis malfunction is supposed to trip the Charging Pump on overcurrent.\\r\\n\\r\\nInitial review indicates the following:\\r\\nSCVD05.for equation 05.23.0 needs to be cleaned up\\r\\nEDSManIn.f should handle including malfunction and EDSMotMalf(48,101,59)=3\\r\\nWF3_EDS - Flex breakers EDSBRKSTATUS(125,169,167)\\r\\n\\r\\nSee attached DR-19-0175, Cause and Effects (CandEPage44)\\r\\n\\r\\nREF: THOR sheets 17,19,21', '@jdelcano 11/11/2019\\nBACKGROUND:\\r\\nThere were multiple issues associated with malfunction CV01 Charging Pump Trip. The Charging pump motors were never integrated correctly into new Thunder Electric source.\\r\\n\\r\\nACTION:\\r\\n1) Added malfunction CV01 motor failure using EDSMOTMALF(48), (59), and (101) for Charging Pumps A, AB, and B respectively.\\r\\n2) Removed CV01 malfunction from FLEX breakers on Electrical nodal rev 10.\\r\\n\\r\\nDR-19-0175 tested this issue SAT. In production load 11/02/2019 at WF3 and delivered Phase 2 baseline load.\\n=-=\\n@jritter 10/28/2019\\nAdded EDSMotMalf = 3 for overcurrent trips of all 3 charging pumps in EDSManIn.f.  Also removed the malfunction from the flex breakers in rev 10 of the drawing.  This generated a new EDSInput.f.  These are on the ftp site in DR17513.zip.\\n']\n",
      "\t1.677\t['Still a breaker generic problem with closing with a trip signal present', 'Insert a malfunction for an inadvertent breaker trip, e.g., MED015A-H, MED265A, MCN604A, MSW604A.\\r\\nBreaker trips okay but will not reclose with the malfunction still active.\\r\\nUnless there is an interlock with the breaker closure coil, there is no reason why a breaker should not close with a trip signal present-even if it is a malfunction-should be no different than any other kind of trip signal.', '@vhydro 08/21/2011\\nVerified that the stated problem has been corrected.\\n=-=\\n@dweaver 08/19/2011\\nIntegrated breaker_comp.f onsite.\\n=-=\\n@jritter 08/19/2011\\nI misunderstood this trip malfunction.  I had it always keeping the breaker tripped in breaker_comp.f.  Updated breaker_comp.f to allow this to happen.\\n']\n",
      "\t0.788\t['LPCS malfunction E21-051 pump overload', 'LPCS pmp overld alarm comes in when malfunction installed and pump not running.\\r\\nThis is incorrect', '@tpowell 09/26/2018\\nRetest complete sat 9-26-18 t powell\\n=-=\\n@user340 09/25/2018\\nThe ladder logic was calculating the e22_151x variable directly without taking into effect the actual overcurrent that is calculated to cause the trip. This has been fixed on the RHR pumps as well.\\r\\n\\r\\nThe fixes for this are on FTP under:\\r\\n/Entergy/GrandGulf/ToSite/DRs_092518\\n']\n",
      "\t0.181\t['MCN601A-C condensate pump overcurrent trip', 'At rated power MCN601A-C causes overcurrent trip of breaker at about 70% severity.  Would it be possible to have the trip occur closer to 100% severity?', '@vhydro 11/19/2011\\nVerified identified issue has been corrected.\\n=-=\\n@dweaver 11/17/2011\\nIntegrated updated module EDSPreManIN.f onsite (11/17/11 4pm) into 9_CTI and 8_Exitech loads on simulator, and into 10_CTI_ASD load on DEV5 ASD workstation.\\n=-=\\n@jritter 11/17/2011\\nTweaked the malfunction in EDSPreManin.f\\n']\n",
      "\t-1.086\t['Safeguard Bus D11 Fault', 'Malfunction MED263A, Fault on Safeguard Bus D11, causes 101-D11 supply breaker 152-11509 to immediately trip (due to bus lockout tripped).\\r\\nHowever, the overcurrent device tripping the breaker is a timed OC device.\\r\\nPlease verify that the fault current is causing the trip and not a legacy code issue.', \"@vhydro 07/09/2011\\nOK\\n=-=\\n@dweaver 07/08/2011\\nSee Jeff's note - fault current causing trip.\\n=-=\\n@jritter 07/05/2011\\nThe fault causes the timer to expire within 1 frame and is not caused by legacy code.\\n\"]\n",
      "\n",
      "------------------------ Start llama3.2:latest Response ------------------------ \n",
      "\n",
      "Yes, that's correct. According to the text, you inserted a malfunction for an inadvertent breaker trip, but the overcurrent device still didn't trip the breaker as expected. This suggests that there may be an issue with the functionality of the overcurrent device or other related systems that needs to be investigated further.\n",
      "\n",
      "------------------------- End llama3.2:latest Response ------------------------- \n",
      "\n"
     ]
    }
   ],
   "source": [
    "# generate a response combining the prompt and data we retrieved in step 2\n",
    "query = \"I inserted a malfunction and the overcurrent trip did not occur when it was supposed to?\"\n",
    "data = search(query=query)\n",
    "client = ollama.Client(host='http://localhost:11434')\n",
    "\n",
    "model = \"llama3.2:latest\"\n",
    "print(f\"\\n------------------------ Start {model} Response ------------------------ \\n\")\n",
    "output = client.chat(model=model, messages=[{'role': 'user', 'content': f\"Using this data: {data}. Respond to this prompt: {query}\"}])\n",
    "print(output.message.content)\n",
    "print(f\"\\n------------------------- End {model} Response ------------------------- \\n\")"
   ]
  },
  {
   "cell_type": "code",
   "execution_count": null,
   "metadata": {},
   "outputs": [],
   "source": []
  }
 ],
 "metadata": {
  "kernelspec": {
   "display_name": "my_env",
   "language": "python",
   "name": "python3"
  },
  "language_info": {
   "codemirror_mode": {
    "name": "ipython",
    "version": 3
   },
   "file_extension": ".py",
   "mimetype": "text/x-python",
   "name": "python",
   "nbconvert_exporter": "python",
   "pygments_lexer": "ipython3",
   "version": "3.12.7"
  }
 },
 "nbformat": 4,
 "nbformat_minor": 2
}
